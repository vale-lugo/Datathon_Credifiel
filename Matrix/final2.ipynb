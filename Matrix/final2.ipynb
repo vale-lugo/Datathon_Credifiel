{
 "cells": [
  {
   "cell_type": "code",
   "execution_count": 1,
   "id": "424a3215",
   "metadata": {},
   "outputs": [],
   "source": [
    "import pandas as pd\n",
    "import numpy as np\n",
    "import matplotlib.pyplot as plt"
   ]
  },
  {
   "cell_type": "code",
   "execution_count": 2,
   "id": "8a5b5ef6",
   "metadata": {},
   "outputs": [],
   "source": [
    "# === File Paths ===\n",
    "INPUT_FILE = \"test2025.csv\"\n",
    "METRICS_FILE = \"data/output/credit_repayment_metrics.csv\"\n",
    "STRATEGY_FILE = \"data/raw/CatEmisora_Merged.csv\"\n",
    "OUTPUT_FILE = \"repayment_simulation_test_1.csv\""
   ]
  },
  {
   "cell_type": "code",
   "execution_count": 3,
   "id": "a66e34af",
   "metadata": {},
   "outputs": [],
   "source": [
    "# === Load Input Data ===\n",
    "input_df = pd.read_csv(INPUT_FILE)\n",
    "input_df[\"idCredito\"] = input_df[\"idCredito\"].astype(str)\n",
    "\n",
    "metrics_df = pd.read_csv(METRICS_FILE)\n",
    "metrics_df[\"idCredito\"] = metrics_df[\"idCredito\"].astype(str)"
   ]
  },
  {
   "cell_type": "code",
   "execution_count": 4,
   "id": "82bf7c06",
   "metadata": {},
   "outputs": [],
   "source": [
    "\n",
    "# === Merge Repayment Ratio ===\n",
    "merged = pd.merge(input_df, metrics_df[[\"idCredito\", \"repayment_ratio\"]], on=\"idCredito\", how=\"left\")\n",
    "merged[\"expected_repayment\"] = merged[\"montoExigible\"] * merged[\"repayment_ratio\"]\n"
   ]
  },
  {
   "cell_type": "code",
   "execution_count": 5,
   "id": "65aae7ea",
   "metadata": {},
   "outputs": [],
   "source": [
    "# === Compute Seasonality Score ===\n",
    "def seasonality_score(day):\n",
    "    radians = (day / 30) * 2 * np.pi * 3\n",
    "    return (np.cos(radians) + 1) / 2\n",
    "\n",
    "merged[\"fechaEnvioCobro\"] = pd.to_datetime(merged[\"fechaEnvioCobro\"], errors='coerce')\n",
    "merged[\"day_of_month\"] = merged[\"fechaEnvioCobro\"].dt.day\n",
    "merged[\"seasonality_score\"] = merged[\"day_of_month\"].apply(lambda d: seasonality_score(d) if not pd.isna(d) else np.nan)\n",
    "merged[\"adjusted_expected_repayment\"] = merged[\"expected_repayment\"] * merged[\"seasonality_score\"]\n"
   ]
  },
  {
   "cell_type": "code",
   "execution_count": 6,
   "id": "58196556",
   "metadata": {},
   "outputs": [],
   "source": [
    "# === Classify Risk ===\n",
    "def classify_risk(ratio):\n",
    "    if pd.isna(ratio):\n",
    "        return \"unknown\"\n",
    "    return \"highrisk\" if ratio < 0.5 else \"lowrisk\"\n",
    "\n",
    "merged[\"risk_level\"] = merged[\"repayment_ratio\"].apply(classify_risk)\n"
   ]
  },
  {
   "cell_type": "code",
   "execution_count": 7,
   "id": "594dda0a",
   "metadata": {},
   "outputs": [],
   "source": [
    "# === Load Strategy Table ===\n",
    "strategy_df = pd.read_csv(STRATEGY_FILE)"
   ]
  },
  {
   "cell_type": "code",
   "execution_count": 8,
   "id": "1f951287",
   "metadata": {},
   "outputs": [],
   "source": [
    "# === Strategy Selection Function ===\n",
    "def select_strategy(row, strategy_df):\n",
    "    if pd.isna(row[\"idBanco\"]):\n",
    "        return pd.Series([np.nan, np.nan])\n",
    "\n",
    "    strategies = strategy_df[strategy_df[\"IdBanco\"] == row[\"idBanco\"]]\n",
    "\n",
    "    if strategies.empty:\n",
    "        return pd.Series([np.nan, np.nan])\n",
    "\n",
    "    if row[\"risk_level\"] == \"highrisk\":\n",
    "        chosen = strategies.sort_values(by=\"Riesgo\", ascending=False).iloc[0]\n",
    "    else:\n",
    "        chosen = strategies.sort_values(by=[\"Riesgo\", \"EmisoraCostoAceptado\"]).iloc[0]\n",
    "\n",
    "    return pd.Series([chosen[\"idEmisora\"], chosen[\"EmisoraCostoAceptado\"]])\n"
   ]
  },
  {
   "cell_type": "code",
   "execution_count": 9,
   "id": "3a38f412",
   "metadata": {},
   "outputs": [],
   "source": [
    "# === Apply Strategy Selection ===\n",
    "merged[[\"idEmisora\", \"operation_cost\"]] = merged.apply(lambda row: select_strategy(row, strategy_df), axis=1)\n"
   ]
  },
  {
   "cell_type": "code",
   "execution_count": 10,
   "id": "72fe728c",
   "metadata": {},
   "outputs": [],
   "source": [
    "\n",
    "# === Save Final Output ===\n",
    "merged[[\n",
    "    \"idCredito\",\n",
    "    \"montoExigible\",\n",
    "    \"fechaEnvioCobro\",\n",
    "    \"idEmisora\",\n",
    "    \"idBanco\",\n",
    "    \"operation_cost\",\n",
    "    \"seasonality_score\",\n",
    "    \"adjusted_expected_repayment\"\n",
    "]].to_csv(OUTPUT_FILE, index=False)\n"
   ]
  },
  {
   "cell_type": "code",
   "execution_count": 13,
   "id": "125d5d2e",
   "metadata": {},
   "outputs": [
    {
     "name": "stdout",
     "output_type": "stream",
     "text": [
      "✅ Final strategy-based results saved to repayment_simulation_test_1.csv\n",
      "💰 Total operational cost for 2025: 1931427.17\n",
      "💰 Total operational cost for 2025 with applied strategy: 1090893.42\n"
     ]
    }
   ],
   "source": [
    "# === Print Results ===\n",
    "total_cost = merged[\"operation_cost\"].sum()\n",
    "print(f\"✅ Final strategy-based results saved to {OUTPUT_FILE}\")\n",
    "print(\"💰 Total operational cost for 2025: 1931427.17\")\n",
    "print(f\"💰 Total operational cost for 2025 with applied strategy: {total_cost:.2f}\")\n"
   ]
  }
 ],
 "metadata": {
  "kernelspec": {
   "display_name": "credf",
   "language": "python",
   "name": "python3"
  },
  "language_info": {
   "codemirror_mode": {
    "name": "ipython",
    "version": 3
   },
   "file_extension": ".py",
   "mimetype": "text/x-python",
   "name": "python",
   "nbconvert_exporter": "python",
   "pygments_lexer": "ipython3",
   "version": "3.11.11"
  }
 },
 "nbformat": 4,
 "nbformat_minor": 5
}
